{
  "nbformat": 4,
  "nbformat_minor": 0,
  "metadata": {
    "colab": {
      "name": "Mega Drive.ipynb",
      "provenance": []
    },
    "kernelspec": {
      "name": "python3",
      "display_name": "Python 3"
    }
  },
  "cells": [
    {
      "cell_type": "code",
      "metadata": {
        "id": "sEXwzWKijX8q",
        "colab_type": "code",
        "colab": {}
      },
      "source": [
        "# Mount Google Drive\n",
        "from google.colab import drive\n",
        "drive.mount('/gdrive')"
      ],
      "execution_count": null,
      "outputs": []
    },
    {
      "cell_type": "code",
      "metadata": {
        "id": "vJXy0w_ljczW",
        "colab_type": "code",
        "colab": {}
      },
      "source": [
        "!sudo apt-get install -y asciidoc"
      ],
      "execution_count": null,
      "outputs": []
    },
    {
      "cell_type": "code",
      "metadata": {
        "id": "tem7vcFqjh8A",
        "colab_type": "code",
        "colab": {}
      },
      "source": [
        "!curl 'https://megatools.megous.com/builds/megatools-1.10.3.tar.gz' | tar xz"
      ],
      "execution_count": null,
      "outputs": []
    },
    {
      "cell_type": "code",
      "metadata": {
        "id": "YKD66tnLjqbe",
        "colab_type": "code",
        "colab": {}
      },
      "source": [
        "%cd megatools-1.10.3/\n",
        "!./configure; make; make install"
      ],
      "execution_count": null,
      "outputs": []
    },
    {
      "cell_type": "code",
      "metadata": {
        "id": "jeJ0LV_nCxBH",
        "colab_type": "code",
        "colab": {}
      },
      "source": [
        "!mkdir '/gdrive/My Drive/.../'"
      ],
      "execution_count": null,
      "outputs": []
    },
    {
      "cell_type": "code",
      "metadata": {
        "id": "HRwil29rk02l",
        "colab_type": "code",
        "colab": {}
      },
      "source": [
        "!megadl --path '/gdrive/My Drive/...' 'https://mega.nz/....'"
      ],
      "execution_count": null,
      "outputs": []
    }
  ]
}
