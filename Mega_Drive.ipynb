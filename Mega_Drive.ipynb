{
  "nbformat": 4,
  "nbformat_minor": 0,
  "metadata": {
    "colab": {
      "name": "Mega Drive.ipynb",
      "provenance": []
    },
    "kernelspec": {
      "name": "python3",
      "display_name": "Python 3"
    }
  },
  "cells": [    
    {
      "cell_type": "code",
      "metadata": {
        "id": "combined-cell",
        "colab_type": "code",
        "colab": {}
      },
      "source": [
        "!apt-get update; apt --fix-broken install; sudo apt-get install -y asciidoc; apt-get install -y libglib2.0-dev\n",
        "!curl 'https://megatools.megous.com/builds/megatools-1.10.3.tar.gz' | tar xz\n",
        "%cd megatools-1.10.3/\n",
        "!./configure; make; make install\n"
      ],
      "execution_count": null,
      "outputs": []
    },
    {
      "cell_type": "code",
      "metadata": {
        "id": "HRwil29rk02l",
        "colab_type": "code",
        "colab": {}
      },
      "source": [
        "!megadl --path '/content' 'https://mega.nz/folder/QzMTCCTQ#GtY46oxHOa4CMrF_W__f_w'"
      ],
      "execution_count": null,
      "outputs": []
    }
  ]
}
